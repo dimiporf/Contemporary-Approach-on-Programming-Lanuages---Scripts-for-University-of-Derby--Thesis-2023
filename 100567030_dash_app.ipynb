{
  "nbformat": 4,
  "nbformat_minor": 0,
  "metadata": {
    "colab": {
      "provenance": [],
      "authorship_tag": "ABX9TyOCbvsZ9lEf20L8+sdTAHHC",
      "include_colab_link": true
    },
    "kernelspec": {
      "name": "python3",
      "display_name": "Python 3"
    },
    "language_info": {
      "name": "python"
    }
  },
  "cells": [
    {
      "cell_type": "markdown",
      "metadata": {
        "id": "view-in-github",
        "colab_type": "text"
      },
      "source": [
        "<a href=\"https://colab.research.google.com/github/dimiporf/datavis/blob/main/100567030_dash_app.ipynb\" target=\"_parent\"><img src=\"https://colab.research.google.com/assets/colab-badge.svg\" alt=\"Open In Colab\"/></a>"
      ]
    },
    {
      "cell_type": "code",
      "execution_count": 1,
      "metadata": {
        "id": "HqREHxTh7pPe"
      },
      "outputs": [],
      "source": [
        "!pip install -q plotly==5.4 dash jupyter-dash"
      ]
    },
    {
      "cell_type": "code",
      "source": [
        "import dash\n",
        "from dash import dcc\n",
        "from dash import html\n",
        "from dash.dependencies import Input, Output\n",
        "from jupyter_dash import JupyterDash \n",
        "import plotly.express as px\n",
        "import plotly.graph_objects as go\n",
        "import plotly.io as pio"
      ],
      "metadata": {
        "id": "ekY_38kQ9NBr"
      },
      "execution_count": 2,
      "outputs": []
    },
    {
      "cell_type": "markdown",
      "source": [
        "WORLD BANK DATA"
      ],
      "metadata": {
        "id": "ejV-aKw_9kFY"
      }
    },
    {
      "cell_type": "code",
      "source": [
        "# Load the Gapminder dataset\n",
        "wb_data = px.data.gapminder()\n",
        "wb_data.head()"
      ],
      "metadata": {
        "colab": {
          "base_uri": "https://localhost:8080/",
          "height": 206
        },
        "id": "yRdZu6nG-gRw",
        "outputId": "947c13e0-d539-47b4-b8fe-469b7c1718aa"
      },
      "execution_count": 3,
      "outputs": [
        {
          "output_type": "execute_result",
          "data": {
            "text/plain": [
              "       country continent  year  lifeExp       pop   gdpPercap iso_alpha  \\\n",
              "0  Afghanistan      Asia  1952   28.801   8425333  779.445314       AFG   \n",
              "1  Afghanistan      Asia  1957   30.332   9240934  820.853030       AFG   \n",
              "2  Afghanistan      Asia  1962   31.997  10267083  853.100710       AFG   \n",
              "3  Afghanistan      Asia  1967   34.020  11537966  836.197138       AFG   \n",
              "4  Afghanistan      Asia  1972   36.088  13079460  739.981106       AFG   \n",
              "\n",
              "   iso_num  \n",
              "0        4  \n",
              "1        4  \n",
              "2        4  \n",
              "3        4  \n",
              "4        4  "
            ],
            "text/html": [
              "\n",
              "  <div id=\"df-f5a7cfb9-0794-425f-8f3a-85daa391ae9f\">\n",
              "    <div class=\"colab-df-container\">\n",
              "      <div>\n",
              "<style scoped>\n",
              "    .dataframe tbody tr th:only-of-type {\n",
              "        vertical-align: middle;\n",
              "    }\n",
              "\n",
              "    .dataframe tbody tr th {\n",
              "        vertical-align: top;\n",
              "    }\n",
              "\n",
              "    .dataframe thead th {\n",
              "        text-align: right;\n",
              "    }\n",
              "</style>\n",
              "<table border=\"1\" class=\"dataframe\">\n",
              "  <thead>\n",
              "    <tr style=\"text-align: right;\">\n",
              "      <th></th>\n",
              "      <th>country</th>\n",
              "      <th>continent</th>\n",
              "      <th>year</th>\n",
              "      <th>lifeExp</th>\n",
              "      <th>pop</th>\n",
              "      <th>gdpPercap</th>\n",
              "      <th>iso_alpha</th>\n",
              "      <th>iso_num</th>\n",
              "    </tr>\n",
              "  </thead>\n",
              "  <tbody>\n",
              "    <tr>\n",
              "      <th>0</th>\n",
              "      <td>Afghanistan</td>\n",
              "      <td>Asia</td>\n",
              "      <td>1952</td>\n",
              "      <td>28.801</td>\n",
              "      <td>8425333</td>\n",
              "      <td>779.445314</td>\n",
              "      <td>AFG</td>\n",
              "      <td>4</td>\n",
              "    </tr>\n",
              "    <tr>\n",
              "      <th>1</th>\n",
              "      <td>Afghanistan</td>\n",
              "      <td>Asia</td>\n",
              "      <td>1957</td>\n",
              "      <td>30.332</td>\n",
              "      <td>9240934</td>\n",
              "      <td>820.853030</td>\n",
              "      <td>AFG</td>\n",
              "      <td>4</td>\n",
              "    </tr>\n",
              "    <tr>\n",
              "      <th>2</th>\n",
              "      <td>Afghanistan</td>\n",
              "      <td>Asia</td>\n",
              "      <td>1962</td>\n",
              "      <td>31.997</td>\n",
              "      <td>10267083</td>\n",
              "      <td>853.100710</td>\n",
              "      <td>AFG</td>\n",
              "      <td>4</td>\n",
              "    </tr>\n",
              "    <tr>\n",
              "      <th>3</th>\n",
              "      <td>Afghanistan</td>\n",
              "      <td>Asia</td>\n",
              "      <td>1967</td>\n",
              "      <td>34.020</td>\n",
              "      <td>11537966</td>\n",
              "      <td>836.197138</td>\n",
              "      <td>AFG</td>\n",
              "      <td>4</td>\n",
              "    </tr>\n",
              "    <tr>\n",
              "      <th>4</th>\n",
              "      <td>Afghanistan</td>\n",
              "      <td>Asia</td>\n",
              "      <td>1972</td>\n",
              "      <td>36.088</td>\n",
              "      <td>13079460</td>\n",
              "      <td>739.981106</td>\n",
              "      <td>AFG</td>\n",
              "      <td>4</td>\n",
              "    </tr>\n",
              "  </tbody>\n",
              "</table>\n",
              "</div>\n",
              "      <button class=\"colab-df-convert\" onclick=\"convertToInteractive('df-f5a7cfb9-0794-425f-8f3a-85daa391ae9f')\"\n",
              "              title=\"Convert this dataframe to an interactive table.\"\n",
              "              style=\"display:none;\">\n",
              "        \n",
              "  <svg xmlns=\"http://www.w3.org/2000/svg\" height=\"24px\"viewBox=\"0 0 24 24\"\n",
              "       width=\"24px\">\n",
              "    <path d=\"M0 0h24v24H0V0z\" fill=\"none\"/>\n",
              "    <path d=\"M18.56 5.44l.94 2.06.94-2.06 2.06-.94-2.06-.94-.94-2.06-.94 2.06-2.06.94zm-11 1L8.5 8.5l.94-2.06 2.06-.94-2.06-.94L8.5 2.5l-.94 2.06-2.06.94zm10 10l.94 2.06.94-2.06 2.06-.94-2.06-.94-.94-2.06-.94 2.06-2.06.94z\"/><path d=\"M17.41 7.96l-1.37-1.37c-.4-.4-.92-.59-1.43-.59-.52 0-1.04.2-1.43.59L10.3 9.45l-7.72 7.72c-.78.78-.78 2.05 0 2.83L4 21.41c.39.39.9.59 1.41.59.51 0 1.02-.2 1.41-.59l7.78-7.78 2.81-2.81c.8-.78.8-2.07 0-2.86zM5.41 20L4 18.59l7.72-7.72 1.47 1.35L5.41 20z\"/>\n",
              "  </svg>\n",
              "      </button>\n",
              "      \n",
              "  <style>\n",
              "    .colab-df-container {\n",
              "      display:flex;\n",
              "      flex-wrap:wrap;\n",
              "      gap: 12px;\n",
              "    }\n",
              "\n",
              "    .colab-df-convert {\n",
              "      background-color: #E8F0FE;\n",
              "      border: none;\n",
              "      border-radius: 50%;\n",
              "      cursor: pointer;\n",
              "      display: none;\n",
              "      fill: #1967D2;\n",
              "      height: 32px;\n",
              "      padding: 0 0 0 0;\n",
              "      width: 32px;\n",
              "    }\n",
              "\n",
              "    .colab-df-convert:hover {\n",
              "      background-color: #E2EBFA;\n",
              "      box-shadow: 0px 1px 2px rgba(60, 64, 67, 0.3), 0px 1px 3px 1px rgba(60, 64, 67, 0.15);\n",
              "      fill: #174EA6;\n",
              "    }\n",
              "\n",
              "    [theme=dark] .colab-df-convert {\n",
              "      background-color: #3B4455;\n",
              "      fill: #D2E3FC;\n",
              "    }\n",
              "\n",
              "    [theme=dark] .colab-df-convert:hover {\n",
              "      background-color: #434B5C;\n",
              "      box-shadow: 0px 1px 3px 1px rgba(0, 0, 0, 0.15);\n",
              "      filter: drop-shadow(0px 1px 2px rgba(0, 0, 0, 0.3));\n",
              "      fill: #FFFFFF;\n",
              "    }\n",
              "  </style>\n",
              "\n",
              "      <script>\n",
              "        const buttonEl =\n",
              "          document.querySelector('#df-f5a7cfb9-0794-425f-8f3a-85daa391ae9f button.colab-df-convert');\n",
              "        buttonEl.style.display =\n",
              "          google.colab.kernel.accessAllowed ? 'block' : 'none';\n",
              "\n",
              "        async function convertToInteractive(key) {\n",
              "          const element = document.querySelector('#df-f5a7cfb9-0794-425f-8f3a-85daa391ae9f');\n",
              "          const dataTable =\n",
              "            await google.colab.kernel.invokeFunction('convertToInteractive',\n",
              "                                                     [key], {});\n",
              "          if (!dataTable) return;\n",
              "\n",
              "          const docLinkHtml = 'Like what you see? Visit the ' +\n",
              "            '<a target=\"_blank\" href=https://colab.research.google.com/notebooks/data_table.ipynb>data table notebook</a>'\n",
              "            + ' to learn more about interactive tables.';\n",
              "          element.innerHTML = '';\n",
              "          dataTable['output_type'] = 'display_data';\n",
              "          await google.colab.output.renderOutput(dataTable, element);\n",
              "          const docLink = document.createElement('div');\n",
              "          docLink.innerHTML = docLinkHtml;\n",
              "          element.appendChild(docLink);\n",
              "        }\n",
              "      </script>\n",
              "    </div>\n",
              "  </div>\n",
              "  "
            ]
          },
          "metadata": {},
          "execution_count": 3
        }
      ]
    },
    {
      "cell_type": "code",
      "source": [
        "# Create the app\n",
        "app = JupyterDash(__name__)"
      ],
      "metadata": {
        "id": "WGemWRtW9mL4"
      },
      "execution_count": 4,
      "outputs": []
    },
    {
      "cell_type": "code",
      "source": [
        "scatter_header = html.H4('GDP and life expectancy evolution by region')"
      ],
      "metadata": {
        "id": "JYgMjrmr9una"
      },
      "execution_count": 5,
      "outputs": []
    },
    {
      "cell_type": "code",
      "source": [
        "# Define the callback function\n",
        "@app.callback(\n",
        "    Output('scatter-graph', 'figure'),\n",
        "    [Input('scatter-dropdown', 'value')]\n",
        ")\n",
        "def select_region(region):\n",
        "    if region:\n",
        "        subset = wb_data.query(f\"continent == '{region}'\")\n",
        "    else:\n",
        "        subset = wb_data\n",
        "\n",
        "    fig = px.scatter(\n",
        "        subset,\n",
        "        x='gdpPercap',\n",
        "        y='lifeExp',\n",
        "        size='pop',\n",
        "        color='continent',\n",
        "        animation_frame='year',\n",
        "        hover_name='country',\n",
        "        range_y=[20, 90],\n",
        "        size_max=60,\n",
        "        log_x=True\n",
        "    )\n",
        "\n",
        "    return fig"
      ],
      "metadata": {
        "id": "vR6UP9k3DtTM"
      },
      "execution_count": 6,
      "outputs": []
    },
    {
      "cell_type": "code",
      "source": [
        "# Define the region options for the dropdown\n",
        "region_options = [\n",
        "    {'label': 'Worldwide', 'value': ''},\n",
        "    {'label': 'Asia', 'value': 'Asia'},\n",
        "    {'label': 'Americas', 'value': 'Americas'},\n",
        "    {'label': 'Europe', 'value': 'Europe'},\n",
        "    {'label': 'Africa', 'value': 'Africa'},\n",
        "    {'label': 'Oceania', 'value': 'Oceania'}\n",
        "]"
      ],
      "metadata": {
        "id": "5-DGoW_dMsqC"
      },
      "execution_count": 7,
      "outputs": []
    },
    {
      "cell_type": "code",
      "source": [
        "# Define the scatter_dropdown component\n",
        "scatter_dropdown = dcc.Dropdown(\n",
        "    id='scatter-dropdown',\n",
        "    options=region_options,\n",
        "    value=None\n",
        ")"
      ],
      "metadata": {
        "id": "YdPLCZtoJcSq"
      },
      "execution_count": 8,
      "outputs": []
    },
    {
      "cell_type": "code",
      "source": [
        "# Define the scatter_graph component\n",
        "scatter_graph = dcc.Graph(id='scatter-graph')"
      ],
      "metadata": {
        "id": "wvYlQLBvBFnT"
      },
      "execution_count": 9,
      "outputs": []
    },
    {
      "cell_type": "code",
      "source": [
        "scatter_row = html.Div(\n",
        "    children=[scatter_header,\n",
        "              scatter_dropdown,\n",
        "              scatter_graph]\n",
        ")"
      ],
      "metadata": {
        "id": "ce93zEdQBNPc"
      },
      "execution_count": 10,
      "outputs": []
    },
    {
      "cell_type": "markdown",
      "source": [
        "CHOROPLETH MAP SECTION"
      ],
      "metadata": {
        "id": "jJ22sGnkQO5O"
      }
    },
    {
      "cell_type": "code",
      "source": [
        "# Define the map_header component\n",
        "map_header = html.H4('Evolution by Country')"
      ],
      "metadata": {
        "id": "tQI5E2FaKMxV"
      },
      "execution_count": 11,
      "outputs": []
    },
    {
      "cell_type": "code",
      "source": [
        "# Define the select_metric callback function\n",
        "@app.callback(\n",
        "    Output(\"map-graph\", \"figure\"),\n",
        "    [Input(\"map-radio\", \"value\")]\n",
        ")\n",
        "def select_metric(metric):\n",
        "    fig = px.choropleth(\n",
        "        wb_data,\n",
        "        locations='iso_alpha',\n",
        "        color=metric,\n",
        "        hover_name='country',\n",
        "        animation_frame='year'\n",
        "    )\n",
        "    return fig"
      ],
      "metadata": {
        "id": "yLdRurs7NYqW"
      },
      "execution_count": 12,
      "outputs": []
    },
    {
      "cell_type": "code",
      "source": [
        "# Define the map_radio component\n",
        "map_radio = dcc.RadioItems(\n",
        "    id=\"map-radio\",\n",
        "    options=[\n",
        "        {'label': 'GDP per capita', 'value': 'gdpPercap'},\n",
        "        {'label': 'Life expectancy', 'value': 'lifeExp'},\n",
        "        {'label': 'Population', 'value': 'pop'}\n",
        "    ],\n",
        "    value='gdpPercap'\n",
        ")"
      ],
      "metadata": {
        "id": "cM-37OQ7LTVV"
      },
      "execution_count": 13,
      "outputs": []
    },
    {
      "cell_type": "code",
      "source": [
        "# Define the map_graph component\n",
        "map_graph = dcc.Graph(id='map-graph')"
      ],
      "metadata": {
        "id": "9yT1Z2meKg6T"
      },
      "execution_count": 14,
      "outputs": []
    },
    {
      "cell_type": "code",
      "source": [
        "# Define the map_row component\n",
        "map_row = html.Div(\n",
        "    children=[map_header,\n",
        "              map_radio,\n",
        "              map_graph]\n",
        ")"
      ],
      "metadata": {
        "id": "EVEI4tBnKlIL"
      },
      "execution_count": 15,
      "outputs": []
    },
    {
      "cell_type": "markdown",
      "source": [
        "TRENDS CHART"
      ],
      "metadata": {
        "id": "60pZzEs7QXaw"
      }
    },
    {
      "cell_type": "code",
      "source": [
        "trends_header = html.H4('Evolution of trends by country')"
      ],
      "metadata": {
        "id": "6yfgEQVhQZ_v"
      },
      "execution_count": 16,
      "outputs": []
    },
    {
      "cell_type": "code",
      "source": [
        "# Define the trends callback function\n",
        "@app.callback(\n",
        "    Output(\"trends-graph\", \"figure\"),\n",
        "    [Input(\"trends-radio\", \"value\")]\n",
        ")\n",
        "def select_trend_chart(chart):\n",
        "    if chart is None or chart == 'line':\n",
        "        fig = px.line(wb_data, x='year', y='lifeExp', color='continent', line_group='country', hover_name='country', line_shape='linear')\n",
        "    else:\n",
        "        fig = px.area(wb_data, x='year', y='lifeExp', color='continent', line_group='country', hover_name='country')\n",
        "    \n",
        "    return fig"
      ],
      "metadata": {
        "id": "lrDomkUDSPAA"
      },
      "execution_count": 17,
      "outputs": []
    },
    {
      "cell_type": "code",
      "source": [
        "trends_radio= dcc.RadioItems(\n",
        "    id='trends-radio',\n",
        "    options=[\n",
        "        {'label':'Line','value':'line'},\n",
        "        {'label':'Area','value':'area'},\n",
        "    ], \n",
        "    value='line'\n",
        ")"
      ],
      "metadata": {
        "id": "NGdUrB3FRfNC"
      },
      "execution_count": 18,
      "outputs": []
    },
    {
      "cell_type": "code",
      "source": [
        "trends_graph = dcc.Graph(id=\"trends-graph\")"
      ],
      "metadata": {
        "id": "wjq9O2O1Qu8w"
      },
      "execution_count": 19,
      "outputs": []
    },
    {
      "cell_type": "code",
      "source": [
        "trends_row = html.Div(\n",
        "    id='trends-row',\n",
        "    children=[\n",
        "        trends_header,\n",
        "        trends_radio,\n",
        "        trends_graph\n",
        "    ]\n",
        ")"
      ],
      "metadata": {
        "id": "mw2z1Sa_QzQs"
      },
      "execution_count": 20,
      "outputs": []
    },
    {
      "cell_type": "markdown",
      "source": [
        "DISTRIBUTION OF PEOPLE BY COUNTRY"
      ],
      "metadata": {
        "id": "JA6SEHGDXGvh"
      }
    },
    {
      "cell_type": "code",
      "source": [
        "distribution_header = html.H4('Population of people in each country')"
      ],
      "metadata": {
        "id": "o1y77F2XXKZ_"
      },
      "execution_count": 21,
      "outputs": []
    },
    {
      "cell_type": "code",
      "source": [
        "@app.callback(Output('distribution-graph', 'figure'), [Input('distribution-radio', 'value')])\n",
        "def select_distribution_chart(chart):\n",
        "  if chart == 'sunburst':\n",
        "    fig = px.sunburst(wb_data, path=['continent','country'], values='pop', color='continent', hover_data=['iso_alpha'])\n",
        "  elif chart == 'treemap':\n",
        "    fig = px.treemap(wb_data, path=['continent','country'], values='pop', color='continent', hover_data=['iso_alpha'])\n",
        "  else:\n",
        "    fig = px.icicle(wb_data, path=['continent','country'], values='pop', color='continent', hover_data=['iso_alpha'])\n",
        "  return fig\n",
        "\n"
      ],
      "metadata": {
        "id": "Dyx-yC1QZJ4g"
      },
      "execution_count": 22,
      "outputs": []
    },
    {
      "cell_type": "code",
      "source": [
        "distribution_radio = dcc.RadioItems(\n",
        "    id='distribution-radio',\n",
        "    options=[\n",
        "        {'label':'Sunburst','value':'sunburst'},\n",
        "        {'label':'Tree Map','value':'treemap'},\n",
        "        {'label':'Icicle','value':'icile'}\n",
        "            ],\n",
        "            value='sunburst'\n",
        ")"
      ],
      "metadata": {
        "id": "nSxLVKS3Yokg"
      },
      "execution_count": 23,
      "outputs": []
    },
    {
      "cell_type": "code",
      "source": [
        "distribution_graph = dcc.Graph(id='distribution-graph')"
      ],
      "metadata": {
        "id": "TVMG2lF5XkPE"
      },
      "execution_count": 24,
      "outputs": []
    },
    {
      "cell_type": "code",
      "source": [
        "distribution_row = html.Div(\n",
        "    id='distribution-row',\n",
        "    children=[\n",
        "        distribution_header,\n",
        "        distribution_radio,\n",
        "        distribution_graph\n",
        "    ]\n",
        ")"
      ],
      "metadata": {
        "id": "xFRQ_t2TXuek"
      },
      "execution_count": 25,
      "outputs": []
    },
    {
      "cell_type": "markdown",
      "source": [
        "CREATE DASHBOARD"
      ],
      "metadata": {
        "id": "JfEjSW5y92-F"
      }
    },
    {
      "cell_type": "code",
      "source": [
        "# Define the layout\n",
        "app.layout = html.Div([\n",
        "    html.H1('Hello World Bank'),\n",
        "    html.Div(\n",
        "        children=[\n",
        "            html.H2('Select a Region:'),\n",
        "            scatter_dropdown,\n",
        "            scatter_graph,\n",
        "            map_row,\n",
        "            trends_row,\n",
        "            distribution_row\n",
        "        ]\n",
        "    )\n",
        "])"
      ],
      "metadata": {
        "id": "t95Ghdxj99Fi"
      },
      "execution_count": 26,
      "outputs": []
    },
    {
      "cell_type": "code",
      "source": [
        "# Run the app\n",
        "if __name__ == \"__main__\":\n",
        "    app.run_server(mode=\"inline\")\n"
      ],
      "metadata": {
        "colab": {
          "base_uri": "https://localhost:8080/",
          "height": 746
        },
        "id": "LQQMIj5_IRie",
        "outputId": "e7801a59-02ae-4f02-8d32-7aade3bdc957"
      },
      "execution_count": 27,
      "outputs": [
        {
          "output_type": "stream",
          "name": "stdout",
          "text": [
            "Dash is running on http://127.0.0.1:8050/\n",
            "\n"
          ]
        },
        {
          "output_type": "stream",
          "name": "stderr",
          "text": [
            "INFO:dash.dash:Dash is running on http://127.0.0.1:8050/\n",
            "\n"
          ]
        },
        {
          "output_type": "display_data",
          "data": {
            "text/plain": [
              "<IPython.core.display.Javascript object>"
            ],
            "application/javascript": [
              "(async (port, path, width, height, cache, element) => {\n",
              "    if (!google.colab.kernel.accessAllowed && !cache) {\n",
              "      return;\n",
              "    }\n",
              "    element.appendChild(document.createTextNode(''));\n",
              "    const url = await google.colab.kernel.proxyPort(port, {cache});\n",
              "    const iframe = document.createElement('iframe');\n",
              "    iframe.src = new URL(path, url).toString();\n",
              "    iframe.height = height;\n",
              "    iframe.width = width;\n",
              "    iframe.style.border = 0;\n",
              "    iframe.allow = [\n",
              "        'accelerometer',\n",
              "        'autoplay',\n",
              "        'camera',\n",
              "        'clipboard-read',\n",
              "        'clipboard-write',\n",
              "        'gyroscope',\n",
              "        'magnetometer',\n",
              "        'microphone',\n",
              "        'serial',\n",
              "        'usb',\n",
              "        'xr-spatial-tracking',\n",
              "    ].join('; ');\n",
              "    element.appendChild(iframe);\n",
              "  })(8050, \"/\", \"100%\", 650, false, window.element)"
            ]
          },
          "metadata": {}
        }
      ]
    }
  ]
}